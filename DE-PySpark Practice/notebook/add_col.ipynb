{
 "cells": [
  {
   "cell_type": "code",
   "execution_count": 6,
   "metadata": {},
   "outputs": [],
   "source": [
    "from pyspark.sql import SparkSession"
   ]
  },
  {
   "cell_type": "code",
   "execution_count": 7,
   "metadata": {},
   "outputs": [],
   "source": [
    "spark = SparkSession.builder.appName(\"Add_col\").getOrCreate()"
   ]
  },
  {
   "cell_type": "code",
   "execution_count": 8,
   "metadata": {},
   "outputs": [
    {
     "name": "stdout",
     "output_type": "stream",
     "text": [
      "+-------+------------+------+\n",
      "|   Name|  Department|Salary|\n",
      "+-------+------------+------+\n",
      "| Chandu|Data Science| 10000|\n",
      "| Chandu|         IOT|  5000|\n",
      "| Rohith|    Big Data|  4000|\n",
      "| Chandu|    Big Data|  4000|\n",
      "| Rohith|Data Science|  3000|\n",
      "|Krishna|Data Science| 20000|\n",
      "|Krishna|         IOT| 10000|\n",
      "|Krishna|    Big Data|  5000|\n",
      "| Rashmi|Data Science| 10000|\n",
      "| Rashmi|    Big Data|  2000|\n",
      "+-------+------------+------+\n",
      "\n"
     ]
    }
   ],
   "source": [
    "df = spark.read.csv(\"Departments.csv\", header=True, inferSchema=True)\n",
    "df.show()"
   ]
  },
  {
   "cell_type": "code",
   "execution_count": 9,
   "metadata": {},
   "outputs": [
    {
     "name": "stdout",
     "output_type": "stream",
     "text": [
      "+-------+------------+------+---+\n",
      "|   Name|  Department|Salary| Id|\n",
      "+-------+------------+------+---+\n",
      "| Chandu|Data Science| 10000|101|\n",
      "| Chandu|         IOT|  5000|101|\n",
      "| Rohith|    Big Data|  4000|101|\n",
      "| Chandu|    Big Data|  4000|101|\n",
      "| Rohith|Data Science|  3000|101|\n",
      "|Krishna|Data Science| 20000|101|\n",
      "|Krishna|         IOT| 10000|101|\n",
      "|Krishna|    Big Data|  5000|101|\n",
      "| Rashmi|Data Science| 10000|101|\n",
      "| Rashmi|    Big Data|  2000|101|\n",
      "+-------+------------+------+---+\n",
      "\n"
     ]
    }
   ],
   "source": [
    "from pyspark.sql.functions import lit\n",
    "df.withColumn(\"Id\", lit(101)).show()"
   ]
  },
  {
   "cell_type": "code",
   "execution_count": 10,
   "metadata": {},
   "outputs": [
    {
     "name": "stdout",
     "output_type": "stream",
     "text": [
      "+-------+------------+------+--------------------+\n",
      "|   Name|  Department|Salary|             Details|\n",
      "+-------+------------+------+--------------------+\n",
      "| Chandu|Data Science| 10000| Chandu-Data Science|\n",
      "| Chandu|         IOT|  5000|          Chandu-IOT|\n",
      "| Rohith|    Big Data|  4000|     Rohith-Big Data|\n",
      "| Chandu|    Big Data|  4000|     Chandu-Big Data|\n",
      "| Rohith|Data Science|  3000| Rohith-Data Science|\n",
      "|Krishna|Data Science| 20000|Krishna-Data Science|\n",
      "|Krishna|         IOT| 10000|         Krishna-IOT|\n",
      "|Krishna|    Big Data|  5000|    Krishna-Big Data|\n",
      "| Rashmi|Data Science| 10000| Rashmi-Data Science|\n",
      "| Rashmi|    Big Data|  2000|     Rashmi-Big Data|\n",
      "+-------+------------+------+--------------------+\n",
      "\n"
     ]
    }
   ],
   "source": [
    "from pyspark.sql.functions import concat_ws\n",
    "df.withColumn(\"Details\", concat_ws('-',\"Name\", \"Department\")).show()"
   ]
  },
  {
   "cell_type": "code",
   "execution_count": 15,
   "metadata": {},
   "outputs": [
    {
     "name": "stdout",
     "output_type": "stream",
     "text": [
      "+-------+------------+------+\n",
      "|   Name|  Department|Salary|\n",
      "+-------+------------+------+\n",
      "| Chandu|Data Science| 10000|\n",
      "| Chandu|         IOT|  5000|\n",
      "| Rohith|    Big Data|  4000|\n",
      "| Chandu|    Big Data|  4000|\n",
      "| Rohith|Data Science|  3000|\n",
      "|Krishna|Data Science| 20000|\n",
      "|Krishna|         IOT| 10000|\n",
      "|Krishna|    Big Data|  5000|\n",
      "| Rashmi|Data Science| 10000|\n",
      "| Rashmi|    Big Data|  2000|\n",
      "+-------+------------+------+\n",
      "\n"
     ]
    }
   ],
   "source": [
    "if \"Salary\" not in df.columns:\n",
    "    df.withColumn(\"Salary\", lit(30000))\n",
    "df.show()"
   ]
  }
 ],
 "metadata": {
  "kernelspec": {
   "display_name": "Python 3",
   "language": "python",
   "name": "python3"
  },
  "language_info": {
   "codemirror_mode": {
    "name": "ipython",
    "version": 3
   },
   "file_extension": ".py",
   "mimetype": "text/x-python",
   "name": "python",
   "nbconvert_exporter": "python",
   "pygments_lexer": "ipython3",
   "version": "3.12.0"
  }
 },
 "nbformat": 4,
 "nbformat_minor": 2
}
