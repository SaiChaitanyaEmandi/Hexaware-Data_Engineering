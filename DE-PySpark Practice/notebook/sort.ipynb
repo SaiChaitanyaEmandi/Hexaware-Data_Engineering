{
 "cells": [
  {
   "cell_type": "code",
   "execution_count": 1,
   "metadata": {},
   "outputs": [],
   "source": [
    "from pyspark.sql import SparkSession"
   ]
  },
  {
   "cell_type": "code",
   "execution_count": 2,
   "metadata": {},
   "outputs": [],
   "source": [
    "spark = SparkSession.builder.appName(\"sorting\").getOrCreate()"
   ]
  },
  {
   "cell_type": "code",
   "execution_count": 3,
   "metadata": {},
   "outputs": [
    {
     "name": "stdout",
     "output_type": "stream",
     "text": [
      "+-------+------------+------+\n",
      "|   Name|  Department|Salary|\n",
      "+-------+------------+------+\n",
      "| Chandu|Data Science| 10000|\n",
      "| Chandu|         IOT|  5000|\n",
      "| Rohith|    Big Data|  4000|\n",
      "| Chandu|    Big Data|  4000|\n",
      "| Rohith|Data Science|  3000|\n",
      "|Krishna|Data Science| 20000|\n",
      "|Krishna|         IOT| 10000|\n",
      "|Krishna|    Big Data|  5000|\n",
      "| Rashmi|Data Science| 10000|\n",
      "| Rashmi|    Big Data|  2000|\n",
      "+-------+------------+------+\n",
      "\n"
     ]
    }
   ],
   "source": [
    "df = spark.read.csv(\"Departments.csv\", header=True, inferSchema=True)\n",
    "df.show()"
   ]
  },
  {
   "cell_type": "code",
   "execution_count": 6,
   "metadata": {},
   "outputs": [
    {
     "name": "stdout",
     "output_type": "stream",
     "text": [
      "+-------+------------+------+\n",
      "|   Name|  Department|Salary|\n",
      "+-------+------------+------+\n",
      "| Rohith|    Big Data|  4000|\n",
      "| Chandu|    Big Data|  4000|\n",
      "|Krishna|    Big Data|  5000|\n",
      "| Rashmi|    Big Data|  2000|\n",
      "| Chandu|Data Science| 10000|\n",
      "| Rohith|Data Science|  3000|\n",
      "|Krishna|Data Science| 20000|\n",
      "| Rashmi|Data Science| 10000|\n",
      "| Chandu|         IOT|  5000|\n",
      "|Krishna|         IOT| 10000|\n",
      "+-------+------------+------+\n",
      "\n"
     ]
    }
   ],
   "source": [
    "df.sort(\"Department\").show()"
   ]
  },
  {
   "cell_type": "code",
   "execution_count": 7,
   "metadata": {},
   "outputs": [
    {
     "name": "stdout",
     "output_type": "stream",
     "text": [
      "+-------+------------+------+\n",
      "|   Name|  Department|Salary|\n",
      "+-------+------------+------+\n",
      "|Krishna|Data Science| 20000|\n",
      "| Chandu|Data Science| 10000|\n",
      "|Krishna|         IOT| 10000|\n",
      "| Rashmi|Data Science| 10000|\n",
      "| Chandu|         IOT|  5000|\n",
      "|Krishna|    Big Data|  5000|\n",
      "| Rohith|    Big Data|  4000|\n",
      "| Chandu|    Big Data|  4000|\n",
      "| Rohith|Data Science|  3000|\n",
      "| Rashmi|    Big Data|  2000|\n",
      "+-------+------------+------+\n",
      "\n"
     ]
    }
   ],
   "source": [
    "df.sort(\"Salary\", ascending = False).show()"
   ]
  },
  {
   "cell_type": "code",
   "execution_count": 5,
   "metadata": {},
   "outputs": [
    {
     "name": "stdout",
     "output_type": "stream",
     "text": [
      "+-------+------------+------+\n",
      "|   Name|  Department|Salary|\n",
      "+-------+------------+------+\n",
      "| Chandu|    Big Data|  4000|\n",
      "| Chandu|         IOT|  5000|\n",
      "| Chandu|Data Science| 10000|\n",
      "|Krishna|    Big Data|  5000|\n",
      "|Krishna|         IOT| 10000|\n",
      "|Krishna|Data Science| 20000|\n",
      "| Rashmi|    Big Data|  2000|\n",
      "| Rashmi|Data Science| 10000|\n",
      "| Rohith|Data Science|  3000|\n",
      "| Rohith|    Big Data|  4000|\n",
      "+-------+------------+------+\n",
      "\n"
     ]
    }
   ],
   "source": [
    "df.orderBy([\"Name\", \"Salary\"]).show()"
   ]
  },
  {
   "cell_type": "code",
   "execution_count": 4,
   "metadata": {},
   "outputs": [
    {
     "name": "stdout",
     "output_type": "stream",
     "text": [
      "+-------+------------+------+\n",
      "|   Name|  Department|Salary|\n",
      "+-------+------------+------+\n",
      "|Krishna|Data Science| 20000|\n",
      "| Chandu|Data Science| 10000|\n",
      "|Krishna|         IOT| 10000|\n",
      "| Rashmi|Data Science| 10000|\n",
      "| Chandu|         IOT|  5000|\n",
      "|Krishna|    Big Data|  5000|\n",
      "| Rohith|    Big Data|  4000|\n",
      "| Chandu|    Big Data|  4000|\n",
      "| Rohith|Data Science|  3000|\n",
      "| Rashmi|    Big Data|  2000|\n",
      "+-------+------------+------+\n",
      "\n"
     ]
    }
   ],
   "source": [
    "df.sort(df[\"Salary\"].desc()).show()"
   ]
  },
  {
   "cell_type": "code",
   "execution_count": 10,
   "metadata": {},
   "outputs": [
    {
     "name": "stdout",
     "output_type": "stream",
     "text": [
      "+-------+------------+------+\n",
      "|   Name|  Department|Salary|\n",
      "+-------+------------+------+\n",
      "| Rashmi|    Big Data|  2000|\n",
      "| Rohith|Data Science|  3000|\n",
      "| Rohith|    Big Data|  4000|\n",
      "| Chandu|    Big Data|  4000|\n",
      "|Krishna|    Big Data|  5000|\n",
      "| Chandu|         IOT|  5000|\n",
      "| Chandu|Data Science| 10000|\n",
      "| Rashmi|Data Science| 10000|\n",
      "|Krishna|         IOT| 10000|\n",
      "|Krishna|Data Science| 20000|\n",
      "+-------+------------+------+\n",
      "\n"
     ]
    }
   ],
   "source": [
    "df.sort(\"Salary\", \"Department\").show()"
   ]
  },
  {
   "cell_type": "code",
   "execution_count": null,
   "metadata": {},
   "outputs": [],
   "source": []
  }
 ],
 "metadata": {
  "kernelspec": {
   "display_name": "Python 3",
   "language": "python",
   "name": "python3"
  },
  "language_info": {
   "codemirror_mode": {
    "name": "ipython",
    "version": 3
   },
   "file_extension": ".py",
   "mimetype": "text/x-python",
   "name": "python",
   "nbconvert_exporter": "python",
   "pygments_lexer": "ipython3",
   "version": "3.12.0"
  }
 },
 "nbformat": 4,
 "nbformat_minor": 2
}
